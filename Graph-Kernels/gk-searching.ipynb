{
 "cells": [
  {
   "cell_type": "code",
   "execution_count": 22,
   "metadata": {},
   "outputs": [],
   "source": [
    "# Network-x imports\n",
    "from networkx.readwrite.graphml import read_graphml\n",
    "import networkx as nx\n",
    "\n",
    "# Graph Kernels import\n",
    "from grakel.utils import graph_from_networkx\n",
    "from grakel.kernels import WeisfeilerLehman, VertexHistogram, ShortestPath, RandomWalk, SubgraphMatching, NeighborhoodHash, GraphletSampling, PyramidMatch, SvmTheta\n",
    "\n",
    "# SVM imports\n",
    "from sklearn.svm import SVC\n",
    "from sklearn.metrics import accuracy_score\n",
    "from sklearn.model_selection import train_test_split\n",
    "from sklearn import metrics\n",
    "\n",
    "# general imports\n",
    "import os"
   ]
  },
  {
   "cell_type": "markdown",
   "metadata": {},
   "source": [
    "# Data Preprocessing"
   ]
  },
  {
   "cell_type": "markdown",
   "metadata": {},
   "source": [
    "## Data Loading"
   ]
  },
  {
   "cell_type": "code",
   "execution_count": 23,
   "metadata": {},
   "outputs": [],
   "source": [
    "graphs = list()\n",
    "labels = list()\n",
    "tags = {'Linear': 0, 'Binary': 1, 'BFS': 2, 'DFS': 3}\n",
    "\n",
    "for algo in os.listdir('CFG/Searching/'):\n",
    "    count = 1\n",
    "    for file in os.listdir('CFG/Searching/'+algo):\n",
    "        graphs.append(read_graphml('CFG/Searching/'+algo+'/'+file))\n",
    "        labels.append(tags[algo])\n",
    "        if(count == 700):\n",
    "            break\n",
    "        count += 1"
   ]
  },
  {
   "cell_type": "code",
   "execution_count": 24,
   "metadata": {},
   "outputs": [
    {
     "data": {
      "text/plain": [
       "(2670, 2670)"
      ]
     },
     "execution_count": 24,
     "metadata": {},
     "output_type": "execute_result"
    }
   ],
   "source": [
    "len(graphs), len(labels)"
   ]
  },
  {
   "cell_type": "code",
   "execution_count": 25,
   "metadata": {},
   "outputs": [
    {
     "data": {
      "image/png": "[encoded data removed]",
      "text/plain": [
       "<Figure size 432x288 with 1 Axes>"
      ]
     },
     "metadata": {},
     "output_type": "display_data"
    }
   ],
   "source": [
    "nx.draw_networkx(graphs[0])"
   ]
  },
  {
   "cell_type": "code",
   "execution_count": 26,
   "metadata": {},
   "outputs": [
    {
     "data": {
      "text/plain": [
       "(2136, 534, 2136, 534)"
      ]
     },
     "execution_count": 26,
     "metadata": {},
     "output_type": "execute_result"
    }
   ],
   "source": [
    "G_train, G_test, Y_train, Y_test = train_test_split(graphs, labels, test_size=0.20, random_state=42)\n",
    "len(G_train), len(G_test), len(Y_train), len(Y_test)"
   ]
  },
  {
   "cell_type": "markdown",
   "metadata": {},
   "source": [
    "## Convert Network-X Graph to Adj List Representation of GraKel"
   ]
  },
  {
   "cell_type": "code",
   "execution_count": 27,
   "metadata": {},
   "outputs": [],
   "source": [
    "G_train = list(graph_from_networkx(G_train, node_labels_tag='label'))\n",
    "G_test = list(graph_from_networkx(G_test, node_labels_tag='label'))"
   ]
  },
  {
   "cell_type": "code",
   "execution_count": 28,
   "metadata": {},
   "outputs": [
    {
     "data": {
      "text/plain": [
       "[{'1000157': {'1000161': 1.0},\n",
       "  '1000161': {'1000164': 1.0},\n",
       "  '1000164': {'1000170': 1.0, '1000174': 1.0},\n",
       "  '1000167': {'1000164': 1.0},\n",
       "  '1000169': {'1000167': 1.0},\n",
       "  '1000170': {'1000169': 1.0},\n",
       "  '1000174': {'1000178': 1.0},\n",
       "  '1000178': {'1000181': 1.0},\n",
       "  '1000181': {'1000189': 1.0, '1000196': 1.0},\n",
       "  '1000184': {'1000181': 1.0},\n",
       "  '1000188': {'1000184': 1.0, '1000193': 1.0},\n",
       "  '1000189': {'1000188': 1.0},\n",
       "  '1000193': {'1000184': 1.0},\n",
       "  '1000196': {'1000199': 1.0},\n",
       "  '1000199': {'1000207': 1.0, '1000216': 1.0},\n",
       "  '1000202': {'1000199': 1.0},\n",
       "  '1000205': {'1000202': 1.0},\n",
       "  '1000207': {'1000210': 1.0},\n",
       "  '1000210': {'1000213': 1.0},\n",
       "  '1000213': {'1000205': 1.0},\n",
       "  '1000216': {}},\n",
       " {'1000157': '(METHOD,dfs)',\n",
       "  '1000161': '(<operator>.assignment,u=0)',\n",
       "  '1000164': '(<operator>.lessThan,u<n)',\n",
       "  '1000167': '(<operator>.postIncrement,u++)',\n",
       "  '1000169': '(<operator>.assignment,c[u]=WHITE)',\n",
       "  '1000170': '(<operator>.indirectIndexAccess,c[u])',\n",
       "  '1000174': '(<operator>.assignment,tt=0)',\n",
       "  '1000178': '(<operator>.assignment,u=0)',\n",
       "  '1000181': '(<operator>.lessThan,u<n)',\n",
       "  '1000184': '(<operator>.postIncrement,u++)',\n",
       "  '1000188': '(<operator>.equals,c[u]==WHITE)',\n",
       "  '1000189': '(<operator>.indirectIndexAccess,c[u])',\n",
       "  '1000193': '(dfs_visit,dfs_visit(u))',\n",
       "  '1000196': '(<operator>.assignment,u=0)',\n",
       "  '1000199': '(<operator>.lessThan,u<n)',\n",
       "  '1000202': '(<operator>.postIncrement,u++)',\n",
       "  '1000205': '(printf,printf(\"%d %d %d\\\\n\",u+1,d[u],f[u]))',\n",
       "  '1000207': '(<operator>.addition,u+1)',\n",
       "  '1000210': '(<operator>.indirectIndexAccess,d[u])',\n",
       "  '1000213': '(<operator>.indirectIndexAccess,f[u])',\n",
       "  '1000216': '(METHOD_RETURN,void)'},\n",
       " None]"
      ]
     },
     "execution_count": 28,
     "metadata": {},
     "output_type": "execute_result"
    }
   ],
   "source": [
    "G_train[0]"
   ]
  },
  {
   "cell_type": "markdown",
   "metadata": {},
   "source": [
    "# Kernel Computation & SVM"
   ]
  },
  {
   "cell_type": "markdown",
   "metadata": {},
   "source": [
    "## 1. Compute the Weisfeiler Lehman Kernel"
   ]
  },
  {
   "cell_type": "code",
   "execution_count": 29,
   "metadata": {},
   "outputs": [],
   "source": [
    "# Initialize a Weisfeiler-Lehman subtree kernel\n",
    "gk = WeisfeilerLehman()"
   ]
  },
  {
   "cell_type": "code",
   "execution_count": 30,
   "metadata": {},
   "outputs": [],
   "source": [
    "# Construct kernel matrices\n",
    "K_train = gk.fit_transform(G_train)\n",
    "K_test = gk.transform(G_test)"
   ]
  },
  {
   "cell_type": "code",
   "execution_count": 31,
   "metadata": {},
   "outputs": [
    {
     "data": {
      "text/plain": [
       "array([[158,   0,   0, ...,   0,   0,   6],\n",
       "       [  0, 160,  19, ...,  13,  12,   4],\n",
       "       [  0,  19, 298, ...,  29,  12,   6],\n",
       "       ...,\n",
       "       [  0,  13,  29, ..., 292,  12,   2],\n",
       "       [  0,  12,  12, ...,  12, 120,   0],\n",
       "       [  6,   4,   6, ...,   2,   0, 242]], dtype=int64)"
      ]
     },
     "execution_count": 31,
     "metadata": {},
     "output_type": "execute_result"
    }
   ],
   "source": [
    "K_train"
   ]
  },
  {
   "cell_type": "code",
   "execution_count": 32,
   "metadata": {},
   "outputs": [
    {
     "data": {
      "text/plain": [
       "SVC(C=1.0, break_ties=False, cache_size=200, class_weight=None, coef0=0.0,\n",
       "    decision_function_shape='ovr', degree=3, gamma='scale',\n",
       "    kernel='precomputed', max_iter=-1, probability=False, random_state=None,\n",
       "    shrinking=True, tol=0.001, verbose=False)"
      ]
     },
     "execution_count": 32,
     "metadata": {},
     "output_type": "execute_result"
    }
   ],
   "source": [
    "# Train an SVM classifier\n",
    "clf = SVC(kernel='precomputed')\n",
    "clf.fit(K_train, Y_train) "
   ]
  },
  {
   "cell_type": "code",
   "execution_count": 33,
   "metadata": {},
   "outputs": [],
   "source": [
    "# Test classifier\n",
    "Y_pred = clf.predict(K_test)"
   ]
  },
  {
   "cell_type": "code",
   "execution_count": 14,
   "metadata": {},
   "outputs": [
    {
     "name": "stdout",
     "output_type": "stream",
     "text": [
      "11 0 1\n",
      "13 1 0\n",
      "21 2 3\n",
      "22 0 1\n",
      "31 1 2\n",
      "32 0 1\n",
      "33 3 2\n",
      "41 3 2\n",
      "49 1 0\n",
      "51 3 0\n",
      "58 1 0\n",
      "60 0 1\n",
      "71 0 1\n",
      "72 0 1\n",
      "95 2 3\n",
      "96 1 0\n",
      "101 1 2\n",
      "102 1 0\n",
      "104 3 0\n",
      "106 0 1\n",
      "117 1 0\n",
      "124 2 0\n",
      "130 0 1\n",
      "133 1 0\n",
      "141 0 1\n",
      "145 2 3\n",
      "147 0 1\n",
      "159 1 0\n",
      "161 1 0\n",
      "162 0 1\n",
      "173 0 1\n",
      "180 2 3\n",
      "181 0 1\n",
      "186 0 1\n",
      "194 1 0\n",
      "196 0 3\n",
      "199 0 1\n",
      "200 1 0\n",
      "201 2 0\n",
      "211 2 3\n",
      "233 1 0\n",
      "244 2 3\n",
      "250 3 2\n",
      "254 1 0\n",
      "271 0 1\n",
      "273 3 2\n",
      "278 1 2\n",
      "299 0 1\n",
      "315 0 1\n",
      "316 1 0\n",
      "318 2 3\n",
      "323 2 3\n",
      "329 3 2\n",
      "341 3 2\n",
      "343 0 1\n",
      "344 2 0\n",
      "353 3 2\n",
      "362 0 1\n",
      "363 3 2\n",
      "370 0 1\n",
      "377 3 2\n",
      "384 3 2\n",
      "386 0 1\n",
      "406 0 1\n",
      "407 1 2\n",
      "424 1 0\n",
      "438 3 2\n",
      "443 3 2\n",
      "465 2 3\n",
      "483 1 0\n",
      "484 0 1\n",
      "493 1 2\n",
      "497 0 1\n",
      "498 1 0\n",
      "532 0 1\n",
      "533 2 3\n",
      "76\n"
     ]
    }
   ],
   "source": [
    "# Analysis\n",
    "count = 0\n",
    "for i in range(len(Y_test)):\n",
    "    if Y_test[i] != Y_pred[i]:\n",
    "        count += 1\n",
    "        print(i+1, Y_test[i], Y_pred[i])\n",
    "print(count)"
   ]
  },
  {
   "cell_type": "code",
   "execution_count": 15,
   "metadata": {},
   "outputs": [
    {
     "data": {
      "text/plain": [
       "(534, 2136)"
      ]
     },
     "execution_count": 15,
     "metadata": {},
     "output_type": "execute_result"
    }
   ],
   "source": [
    "# Kernel Matrix\n",
    "K_test.shape"
   ]
  },
  {
   "cell_type": "code",
   "execution_count": 16,
   "metadata": {},
   "outputs": [
    {
     "ename": "IsADirectoryError",
     "evalue": "[Errno 21] Is a directory: 'CFG/Searching/Linear'",
     "output_type": "error",
     "traceback": [
      "\u001b[0;31m---------------------------------------------------------------------------\u001b[0m",
      "\u001b[0;31mIsADirectoryError\u001b[0m                         Traceback (most recent call last)",
      "\u001b[0;32m<ipython-input-16-0e865ebc07fa>\u001b[0m in \u001b[0;36m<module>\u001b[0;34m\u001b[0m\n\u001b[1;32m      6\u001b[0m     \u001b[0mcount\u001b[0m \u001b[0;34m=\u001b[0m \u001b[0;36m1\u001b[0m\u001b[0;34m\u001b[0m\u001b[0;34m\u001b[0m\u001b[0m\n\u001b[1;32m      7\u001b[0m     \u001b[0;32mfor\u001b[0m \u001b[0mfile\u001b[0m \u001b[0;32min\u001b[0m \u001b[0mos\u001b[0m\u001b[0;34m.\u001b[0m\u001b[0mlistdir\u001b[0m\u001b[0;34m(\u001b[0m\u001b[0;34m'CFG/'\u001b[0m\u001b[0;34m+\u001b[0m\u001b[0malgo\u001b[0m\u001b[0;34m)\u001b[0m\u001b[0;34m:\u001b[0m\u001b[0;34m\u001b[0m\u001b[0;34m\u001b[0m\u001b[0m\n\u001b[0;32m----> 8\u001b[0;31m         \u001b[0mgraphs1\u001b[0m\u001b[0;34m.\u001b[0m\u001b[0mappend\u001b[0m\u001b[0;34m(\u001b[0m\u001b[0mread_graphml\u001b[0m\u001b[0;34m(\u001b[0m\u001b[0;34m'CFG/'\u001b[0m\u001b[0;34m+\u001b[0m\u001b[0malgo\u001b[0m\u001b[0;34m+\u001b[0m\u001b[0;34m'/'\u001b[0m\u001b[0;34m+\u001b[0m\u001b[0mfile\u001b[0m\u001b[0;34m)\u001b[0m\u001b[0;34m)\u001b[0m\u001b[0;34m\u001b[0m\u001b[0;34m\u001b[0m\u001b[0m\n\u001b[0m\u001b[1;32m      9\u001b[0m         \u001b[0mlabels1\u001b[0m\u001b[0;34m.\u001b[0m\u001b[0mappend\u001b[0m\u001b[0;34m(\u001b[0m\u001b[0;34m[\u001b[0m\u001b[0mtags\u001b[0m\u001b[0;34m[\u001b[0m\u001b[0malgo\u001b[0m\u001b[0;34m]\u001b[0m\u001b[0;34m,\u001b[0m \u001b[0mfile\u001b[0m\u001b[0;34m]\u001b[0m\u001b[0;34m)\u001b[0m\u001b[0;34m\u001b[0m\u001b[0;34m\u001b[0m\u001b[0m\n\u001b[1;32m     10\u001b[0m         \u001b[0;32mif\u001b[0m\u001b[0;34m(\u001b[0m\u001b[0mcount\u001b[0m \u001b[0;34m==\u001b[0m \u001b[0;36m700\u001b[0m\u001b[0;34m)\u001b[0m\u001b[0;34m:\u001b[0m\u001b[0;34m\u001b[0m\u001b[0;34m\u001b[0m\u001b[0m\n",
      "\u001b[0;32m</home/suraj/apps/anaconda3/lib/python3.7/site-packages/decorator.py:decorator-gen-785>\u001b[0m in \u001b[0;36mread_graphml\u001b[0;34m(path, node_type, edge_key_type)\u001b[0m\n",
      "\u001b[0;32m~/apps/anaconda3/lib/python3.7/site-packages/networkx/utils/decorators.py\u001b[0m in \u001b[0;36m_open_file\u001b[0;34m(func_to_be_decorated, *args, **kwargs)\u001b[0m\n\u001b[1;32m    212\u001b[0m         \u001b[0;32mif\u001b[0m \u001b[0mis_string_like\u001b[0m\u001b[0;34m(\u001b[0m\u001b[0mpath\u001b[0m\u001b[0;34m)\u001b[0m\u001b[0;34m:\u001b[0m\u001b[0;34m\u001b[0m\u001b[0;34m\u001b[0m\u001b[0m\n\u001b[1;32m    213\u001b[0m             \u001b[0mext\u001b[0m \u001b[0;34m=\u001b[0m \u001b[0msplitext\u001b[0m\u001b[0;34m(\u001b[0m\u001b[0mpath\u001b[0m\u001b[0;34m)\u001b[0m\u001b[0;34m[\u001b[0m\u001b[0;36m1\u001b[0m\u001b[0;34m]\u001b[0m\u001b[0;34m\u001b[0m\u001b[0;34m\u001b[0m\u001b[0m\n\u001b[0;32m--> 214\u001b[0;31m             \u001b[0mfobj\u001b[0m \u001b[0;34m=\u001b[0m \u001b[0m_dispatch_dict\u001b[0m\u001b[0;34m[\u001b[0m\u001b[0mext\u001b[0m\u001b[0;34m]\u001b[0m\u001b[0;34m(\u001b[0m\u001b[0mpath\u001b[0m\u001b[0;34m,\u001b[0m \u001b[0mmode\u001b[0m\u001b[0;34m=\u001b[0m\u001b[0mmode\u001b[0m\u001b[0;34m)\u001b[0m\u001b[0;34m\u001b[0m\u001b[0;34m\u001b[0m\u001b[0m\n\u001b[0m\u001b[1;32m    215\u001b[0m             \u001b[0mclose_fobj\u001b[0m \u001b[0;34m=\u001b[0m \u001b[0;32mTrue\u001b[0m\u001b[0;34m\u001b[0m\u001b[0;34m\u001b[0m\u001b[0m\n\u001b[1;32m    216\u001b[0m         \u001b[0;32melif\u001b[0m \u001b[0mhasattr\u001b[0m\u001b[0;34m(\u001b[0m\u001b[0mpath\u001b[0m\u001b[0;34m,\u001b[0m \u001b[0;34m'read'\u001b[0m\u001b[0;34m)\u001b[0m\u001b[0;34m:\u001b[0m\u001b[0;34m\u001b[0m\u001b[0;34m\u001b[0m\u001b[0m\n",
      "\u001b[0;31mIsADirectoryError\u001b[0m: [Errno 21] Is a directory: 'CFG/Searching/Linear'"
     ]
    }
   ],
   "source": [
    "graphs1 = list()\n",
    "labels1 = list()\n",
    "tags = {'Bubble': 0, 'Insertion': 1, 'Selection': 2, 'Counting': 3, 'Merge': 4, 'Quick': 5}\n",
    "\n",
    "for algo in os.listdir('CFG'):\n",
    "    count = 1\n",
    "    for file in os.listdir('CFG/'+algo):\n",
    "        graphs1.append(read_graphml('CFG/'+algo+'/'+file))\n",
    "        labels1.append([tags[algo], file])\n",
    "        if(count == 700):\n",
    "            break\n",
    "        count += 1"
   ]
  },
  {
   "cell_type": "code",
   "execution_count": 16,
   "metadata": {},
   "outputs": [
    {
     "data": {
      "text/plain": [
       "(3360, 840, 3360, 840)"
      ]
     },
     "execution_count": 16,
     "metadata": {},
     "output_type": "execute_result"
    }
   ],
   "source": [
    "G_train1, G_test1, Y_train1, Y_test1 = train_test_split(graphs1, labels1, test_size=0.20, random_state=42)\n",
    "len(G_train1), len(G_test1), len(Y_train1), len(Y_test1)"
   ]
  },
  {
   "cell_type": "code",
   "execution_count": 17,
   "metadata": {},
   "outputs": [
    {
     "name": "stdout",
     "output_type": "stream",
     "text": [
      "10 [3, 'counting1979559.graphml'] [4, 'Merge']\n",
      "15 [1, 'insertion3893366.graphml'] [0, 'Bubble']\n",
      "17 [4, 'merge1515388.graphml'] [2, 'Selection']\n",
      "18 [2, 'selection2272079.graphml'] [4, 'Merge']\n",
      "23 [5, 'quick672841.graphml'] [4, 'Merge']\n",
      "56 [2, 'selection3895884.graphml'] [1, 'Insertion']\n",
      "59 [5, 'quick2856923.graphml'] [4, 'Merge']\n",
      "83 [3, 'counting3955982.graphml'] [4, 'Merge']\n",
      "85 [2, 'selection4158811.graphml'] [4, 'Merge']\n",
      "93 [4, 'merge3750272.graphml'] [5, 'Quick']\n",
      "109 [0, 'bubble3275457.graphml'] [1, 'Insertion']\n",
      "115 [2, 'selection3246904.graphml'] [1, 'Insertion']\n",
      "123 [4, 'merge2128156.graphml'] [2, 'Selection']\n",
      "125 [2, 'selection4034930.graphml'] [4, 'Merge']\n",
      "140 [1, 'insertion910198.graphml'] [0, 'Bubble']\n",
      "144 [0, 'bubble1896879.graphml'] [4, 'Merge']\n",
      "148 [1, 'insertion2998924.graphml'] [5, 'Quick']\n",
      "149 [2, 'selection3855765.graphml'] [0, 'Bubble']\n",
      "152 [2, 'selection4659872.graphml'] [0, 'Bubble']\n",
      "156 [4, 'merge4029017.graphml'] [5, 'Quick']\n",
      "161 [5, 'quick4616656.graphml'] [4, 'Merge']\n",
      "174 [5, 'quick3924427.graphml'] [4, 'Merge']\n",
      "193 [0, 'bubble2598511.graphml'] [2, 'Selection']\n",
      "197 [5, 'quick4152114.graphml'] [4, 'Merge']\n",
      "206 [5, 'quick4171236.graphml'] [0, 'Bubble']\n",
      "213 [5, 'quick4000142.graphml'] [1, 'Insertion']\n",
      "218 [5, 'quick4127443.graphml'] [2, 'Selection']\n",
      "225 [2, 'selection1734419.graphml'] [0, 'Bubble']\n",
      "228 [0, 'bubble2928707.graphml'] [2, 'Selection']\n",
      "233 [5, 'quick2999393.graphml'] [4, 'Merge']\n",
      "245 [1, 'insertion1384586.graphml'] [4, 'Merge']\n",
      "247 [2, 'selection3051739.graphml'] [5, 'Quick']\n",
      "276 [5, 'quick3073171.graphml'] [4, 'Merge']\n",
      "287 [5, 'quick4120242.graphml'] [4, 'Merge']\n",
      "299 [0, 'bubble2529536.graphml'] [5, 'Quick']\n",
      "300 [5, 'quick4610743.graphml'] [4, 'Merge']\n",
      "301 [1, 'insertion1210513.graphml'] [0, 'Bubble']\n",
      "302 [2, 'selection2628411.graphml'] [4, 'Merge']\n",
      "315 [0, 'bubble4434530.graphml'] [2, 'Selection']\n",
      "330 [0, 'bubble3909652.graphml'] [4, 'Merge']\n",
      "344 [2, 'selection2809814.graphml'] [1, 'Insertion']\n",
      "353 [5, 'quick2955009.graphml'] [2, 'Selection']\n",
      "360 [1, 'insertion2104277.graphml'] [4, 'Merge']\n",
      "361 [2, 'selection3246921.graphml'] [5, 'Quick']\n",
      "362 [1, 'insertion2583367.graphml'] [2, 'Selection']\n",
      "367 [5, 'quick3738822.graphml'] [4, 'Merge']\n",
      "369 [4, 'merge2833145.graphml'] [5, 'Quick']\n",
      "371 [5, 'quick4173033.graphml'] [4, 'Merge']\n",
      "373 [1, 'insertion1715112.graphml'] [4, 'Merge']\n",
      "382 [1, 'insertion3446110.graphml'] [2, 'Selection']\n",
      "403 [5, 'quick1379392.graphml'] [4, 'Merge']\n",
      "417 [2, 'selection2325123.graphml'] [0, 'Bubble']\n",
      "421 [2, 'selection1427745.graphml'] [4, 'Merge']\n",
      "424 [2, 'selection2594156.graphml'] [4, 'Merge']\n",
      "430 [0, 'bubble4045853.graphml'] [2, 'Selection']\n",
      "438 [2, 'selection4818099.graphml'] [0, 'Bubble']\n",
      "447 [5, 'quick3884151.graphml'] [2, 'Selection']\n",
      "457 [2, 'selection1733579.graphml'] [4, 'Merge']\n",
      "462 [2, 'selection2977258.graphml'] [1, 'Insertion']\n",
      "474 [5, 'quick3085325.graphml'] [4, 'Merge']\n",
      "478 [1, 'insertion3248211.graphml'] [0, 'Bubble']\n",
      "479 [2, 'selection3197861.graphml'] [1, 'Insertion']\n",
      "488 [5, 'quick4139574.graphml'] [4, 'Merge']\n",
      "492 [3, 'counting2992823.graphml'] [1, 'Insertion']\n",
      "499 [2, 'selection918608.graphml'] [4, 'Merge']\n",
      "500 [4, 'merge2609835.graphml'] [5, 'Quick']\n",
      "501 [4, 'merge3295512.graphml'] [5, 'Quick']\n",
      "512 [2, 'selection2271698.graphml'] [5, 'Quick']\n",
      "521 [0, 'bubble3537305.graphml'] [4, 'Merge']\n",
      "552 [0, 'bubble1299882.graphml'] [1, 'Insertion']\n",
      "555 [0, 'bubble3853986.graphml'] [1, 'Insertion']\n",
      "574 [2, 'selection3502184.graphml'] [4, 'Merge']\n",
      "589 [0, 'bubble2362106.graphml'] [1, 'Insertion']\n",
      "594 [2, 'selection3551675.graphml'] [0, 'Bubble']\n",
      "599 [1, 'insertion2933580.graphml'] [0, 'Bubble']\n",
      "609 [2, 'selection906881.graphml'] [1, 'Insertion']\n",
      "610 [5, 'quick4158350.graphml'] [4, 'Merge']\n",
      "623 [3, 'counting881902.graphml'] [2, 'Selection']\n",
      "634 [3, 'counting4152585.graphml'] [1, 'Insertion']\n",
      "646 [3, 'counting3949793.graphml'] [4, 'Merge']\n",
      "650 [3, 'counting2992093.graphml'] [4, 'Merge']\n",
      "667 [0, 'bubble2633703.graphml'] [1, 'Insertion']\n",
      "668 [5, 'quick2479771.graphml'] [4, 'Merge']\n",
      "686 [0, 'bubble4857269.graphml'] [2, 'Selection']\n",
      "703 [2, 'selection3600092.graphml'] [1, 'Insertion']\n",
      "704 [4, 'merge4152567.graphml'] [2, 'Selection']\n",
      "705 [2, 'selection4234703.graphml'] [0, 'Bubble']\n",
      "709 [2, 'selection3923870.graphml'] [0, 'Bubble']\n",
      "717 [2, 'selection3277885.graphml'] [1, 'Insertion']\n",
      "720 [3, 'counting3313288.graphml'] [4, 'Merge']\n",
      "724 [4, 'merge2980256.graphml'] [5, 'Quick']\n",
      "732 [3, 'counting2991796.graphml'] [4, 'Merge']\n",
      "735 [2, 'selection2268762.graphml'] [4, 'Merge']\n",
      "740 [1, 'insertion882140.graphml'] [3, 'Counting']\n",
      "743 [5, 'quick4609396.graphml'] [4, 'Merge']\n",
      "744 [1, 'insertion2941747.graphml'] [0, 'Bubble']\n",
      "752 [1, 'insertion3968585.graphml'] [4, 'Merge']\n",
      "758 [1, 'insertion3614917.graphml'] [4, 'Merge']\n",
      "762 [0, 'bubble2632666.graphml'] [1, 'Insertion']\n",
      "767 [1, 'insertion2806083.graphml'] [2, 'Selection']\n",
      "768 [1, 'insertion4806343.graphml'] [0, 'Bubble']\n",
      "778 [2, 'selection4385234.graphml'] [1, 'Insertion']\n",
      "779 [4, 'merge861675.graphml'] [3, 'Counting']\n",
      "785 [2, 'selection4035839.graphml'] [0, 'Bubble']\n",
      "786 [2, 'selection2064401.graphml'] [4, 'Merge']\n",
      "795 [4, 'merge3002502.graphml'] [1, 'Insertion']\n",
      "806 [2, 'selection1749572.graphml'] [4, 'Merge']\n",
      "811 [4, 'merge1794400.graphml'] [3, 'Counting']\n",
      "836 [2, 'selection917245.graphml'] [5, 'Quick']\n",
      "838 [3, 'counting4133285.graphml'] [4, 'Merge']\n",
      "840 [2, 'selection4045575.graphml'] [0, 'Bubble']\n",
      "111\n"
     ]
    }
   ],
   "source": [
    "# Analysis\n",
    "r_tags = {0: 'Bubble', 1: 'Insertion', 2: 'Selection', 3:'Counting', 4: 'Merge', 5: 'Quick'}\n",
    "count = 0\n",
    "for i in range(len(Y_test)):\n",
    "    if Y_test[i] != Y_pred[i]:\n",
    "        count += 1\n",
    "        print(i+1, Y_test1[i], [Y_pred[i], r_tags[Y_pred[i]]])\n",
    "print(count)"
   ]
  },
  {
   "cell_type": "code",
   "execution_count": 34,
   "metadata": {},
   "outputs": [
    {
     "name": "stdout",
     "output_type": "stream",
     "text": [
      "Accuracy: 0.8576779026217228\n"
     ]
    }
   ],
   "source": [
    "# Evaluate the predictions\n",
    "print(\"Accuracy:\", accuracy_score(Y_test, Y_pred))"
   ]
  },
  {
   "cell_type": "code",
   "execution_count": 35,
   "metadata": {},
   "outputs": [
    {
     "name": "stdout",
     "output_type": "stream",
     "text": [
      "[[115  26   0   1]\n",
      " [ 17 112   5   0]\n",
      " [  3   0 107  10]\n",
      " [  2   0  12 124]]\n",
      "              precision    recall  f1-score   support\n",
      "\n",
      "           0       0.84      0.81      0.82       142\n",
      "           1       0.81      0.84      0.82       134\n",
      "           2       0.86      0.89      0.88       120\n",
      "           3       0.92      0.90      0.91       138\n",
      "\n",
      "    accuracy                           0.86       534\n",
      "   macro avg       0.86      0.86      0.86       534\n",
      "weighted avg       0.86      0.86      0.86       534\n",
      "\n"
     ]
    }
   ],
   "source": [
    "print(metrics.confusion_matrix(Y_test, Y_pred))\n",
    "\n",
    "# Print the precision and recall, among other metrics\n",
    "print(metrics.classification_report(Y_test, Y_pred, digits=2))"
   ]
  },
  {
   "cell_type": "code",
   "execution_count": 19,
   "metadata": {},
   "outputs": [
    {
     "data": {
      "text/plain": [
       "(2136, 2136)"
      ]
     },
     "execution_count": 19,
     "metadata": {},
     "output_type": "execute_result"
    }
   ],
   "source": [
    "K_train.shape"
   ]
  },
  {
   "cell_type": "markdown",
   "metadata": {},
   "source": [
    "## 2. The random walk kernel class (Time Consuming)"
   ]
  },
  {
   "cell_type": "code",
   "execution_count": 51,
   "metadata": {},
   "outputs": [],
   "source": [
    "gk = RandomWalk()"
   ]
  },
  {
   "cell_type": "code",
   "execution_count": 52,
   "metadata": {},
   "outputs": [],
   "source": [
    "# Construct kernel matrices\n",
    "K_train = gk.fit_transform(G_train)\n",
    "K_test = gk.transform(G_test)"
   ]
  },
  {
   "cell_type": "code",
   "execution_count": 53,
   "metadata": {},
   "outputs": [
    {
     "data": {
      "text/plain": [
       "SVC(C=1.0, break_ties=False, cache_size=200, class_weight=None, coef0=0.0,\n",
       "    decision_function_shape='ovr', degree=3, gamma='scale',\n",
       "    kernel='precomputed', max_iter=-1, probability=False, random_state=None,\n",
       "    shrinking=True, tol=0.001, verbose=False)"
      ]
     },
     "execution_count": 53,
     "metadata": {},
     "output_type": "execute_result"
    }
   ],
   "source": [
    "# Train an SVM classifier\n",
    "clf = SVC(kernel='precomputed')\n",
    "clf.fit(K_train, Y_train) "
   ]
  },
  {
   "cell_type": "code",
   "execution_count": 54,
   "metadata": {},
   "outputs": [],
   "source": [
    "# Test classifier\n",
    "Y_pred = clf.predict(K_test)"
   ]
  },
  {
   "cell_type": "code",
   "execution_count": 55,
   "metadata": {},
   "outputs": [
    {
     "name": "stdout",
     "output_type": "stream",
     "text": [
      "[[31 52  3 56]\n",
      " [16 52  7 59]\n",
      " [26 20 41 33]\n",
      " [40 10 11 77]]\n",
      "              precision    recall  f1-score   support\n",
      "\n",
      "           0       0.27      0.22      0.24       142\n",
      "           1       0.39      0.39      0.39       134\n",
      "           2       0.66      0.34      0.45       120\n",
      "           3       0.34      0.56      0.42       138\n",
      "\n",
      "    accuracy                           0.38       534\n",
      "   macro avg       0.42      0.38      0.38       534\n",
      "weighted avg       0.41      0.38      0.37       534\n",
      "\n"
     ]
    }
   ],
   "source": [
    "print(metrics.confusion_matrix(Y_test, Y_pred))\n",
    "\n",
    "# Print the precision and recall, among other metrics\n",
    "print(metrics.classification_report(Y_test, Y_pred, digits=2))"
   ]
  },
  {
   "cell_type": "markdown",
   "metadata": {},
   "source": [
    "## 3. Subgraph Matching"
   ]
  },
  {
   "cell_type": "code",
   "execution_count": 36,
   "metadata": {},
   "outputs": [],
   "source": [
    "gk = SubgraphMatching(ke=None)"
   ]
  },
  {
   "cell_type": "code",
   "execution_count": 37,
   "metadata": {},
   "outputs": [],
   "source": [
    "# Construct kernel matrices\n",
    "K_train = gk.fit_transform(G_train)\n",
    "K_test = gk.transform(G_test)"
   ]
  },
  {
   "cell_type": "code",
   "execution_count": 38,
   "metadata": {},
   "outputs": [
    {
     "data": {
      "text/plain": [
       "SVC(C=1.0, break_ties=False, cache_size=200, class_weight=None, coef0=0.0,\n",
       "    decision_function_shape='ovr', degree=3, gamma='scale',\n",
       "    kernel='precomputed', max_iter=-1, probability=False, random_state=None,\n",
       "    shrinking=True, tol=0.001, verbose=False)"
      ]
     },
     "execution_count": 38,
     "metadata": {},
     "output_type": "execute_result"
    }
   ],
   "source": [
    "# Train an SVM classifier\n",
    "clf = SVC(kernel='precomputed')\n",
    "clf.fit(K_train, Y_train) "
   ]
  },
  {
   "cell_type": "code",
   "execution_count": 39,
   "metadata": {},
   "outputs": [],
   "source": [
    "# Test classifier\n",
    "Y_pred = clf.predict(K_test)"
   ]
  },
  {
   "cell_type": "code",
   "execution_count": 40,
   "metadata": {},
   "outputs": [
    {
     "name": "stdout",
     "output_type": "stream",
     "text": [
      "[[118  22   1   1]\n",
      " [ 15 116   3   0]\n",
      " [  4   0 103  13]\n",
      " [  4   1  13 120]]\n",
      "              precision    recall  f1-score   support\n",
      "\n",
      "           0       0.84      0.83      0.83       142\n",
      "           1       0.83      0.87      0.85       134\n",
      "           2       0.86      0.86      0.86       120\n",
      "           3       0.90      0.87      0.88       138\n",
      "\n",
      "    accuracy                           0.86       534\n",
      "   macro avg       0.86      0.86      0.86       534\n",
      "weighted avg       0.86      0.86      0.86       534\n",
      "\n"
     ]
    }
   ],
   "source": [
    "print(metrics.confusion_matrix(Y_test, Y_pred))\n",
    "\n",
    "# Print the precision and recall, among other metrics\n",
    "print(metrics.classification_report(Y_test, Y_pred, digits=2))"
   ]
  },
  {
   "cell_type": "markdown",
   "metadata": {},
   "source": [
    "## 4. NeighborhoodHash Kernel"
   ]
  },
  {
   "cell_type": "code",
   "execution_count": 41,
   "metadata": {},
   "outputs": [],
   "source": [
    "gk = NeighborhoodHash()"
   ]
  },
  {
   "cell_type": "code",
   "execution_count": 42,
   "metadata": {},
   "outputs": [
    {
     "name": "stderr",
     "output_type": "stream",
     "text": [
      "/home/suraj/apps/anaconda3/lib/python3.7/site-packages/grakel-0.1b7-py3.7-linux-x86_64.egg/grakel/kernels/neighborhood_hash.py:170: UserWarning: Number of labels is smaller thanthe biggest possible.. Collisions will appear on the new labels.\n",
      "  warnings.warn('Number of labels is smaller than'\n"
     ]
    }
   ],
   "source": [
    "# Construct kernel matrices\n",
    "K_train = gk.fit_transform(G_train)\n",
    "K_test = gk.transform(G_test)"
   ]
  },
  {
   "cell_type": "code",
   "execution_count": 43,
   "metadata": {},
   "outputs": [
    {
     "data": {
      "text/plain": [
       "SVC(C=1.0, break_ties=False, cache_size=200, class_weight=None, coef0=0.0,\n",
       "    decision_function_shape='ovr', degree=3, gamma='scale',\n",
       "    kernel='precomputed', max_iter=-1, probability=False, random_state=None,\n",
       "    shrinking=True, tol=0.001, verbose=False)"
      ]
     },
     "execution_count": 43,
     "metadata": {},
     "output_type": "execute_result"
    }
   ],
   "source": [
    "# Train an SVM classifier\n",
    "clf = SVC(kernel='precomputed')\n",
    "clf.fit(K_train, Y_train) "
   ]
  },
  {
   "cell_type": "code",
   "execution_count": 44,
   "metadata": {},
   "outputs": [],
   "source": [
    "# Test classifier\n",
    "Y_pred = clf.predict(K_test)"
   ]
  },
  {
   "cell_type": "code",
   "execution_count": 45,
   "metadata": {},
   "outputs": [
    {
     "name": "stdout",
     "output_type": "stream",
     "text": [
      "[[104  30   6   2]\n",
      " [ 22 106   5   1]\n",
      " [  0   2  98  20]\n",
      " [  3   0  13 122]]\n",
      "              precision    recall  f1-score   support\n",
      "\n",
      "           0       0.81      0.73      0.77       142\n",
      "           1       0.77      0.79      0.78       134\n",
      "           2       0.80      0.82      0.81       120\n",
      "           3       0.84      0.88      0.86       138\n",
      "\n",
      "    accuracy                           0.81       534\n",
      "   macro avg       0.80      0.81      0.80       534\n",
      "weighted avg       0.81      0.81      0.80       534\n",
      "\n"
     ]
    }
   ],
   "source": [
    "print(metrics.confusion_matrix(Y_test, Y_pred))\n",
    "\n",
    "# Print the precision and recall, among other metrics\n",
    "print(metrics.classification_report(Y_test, Y_pred, digits=2))"
   ]
  },
  {
   "cell_type": "markdown",
   "metadata": {},
   "source": [
    "## 5.  GraphletSampling Kernel"
   ]
  },
  {
   "cell_type": "code",
   "execution_count": 46,
   "metadata": {},
   "outputs": [],
   "source": [
    "gk = GraphletSampling()"
   ]
  },
  {
   "cell_type": "code",
   "execution_count": 47,
   "metadata": {},
   "outputs": [],
   "source": [
    "# Construct kernel matrices\n",
    "K_train = gk.fit_transform(G_train)\n",
    "K_test = gk.transform(G_test)"
   ]
  },
  {
   "cell_type": "code",
   "execution_count": 48,
   "metadata": {},
   "outputs": [
    {
     "data": {
      "text/plain": [
       "SVC(C=1.0, break_ties=False, cache_size=200, class_weight=None, coef0=0.0,\n",
       "    decision_function_shape='ovr', degree=3, gamma='scale',\n",
       "    kernel='precomputed', max_iter=-1, probability=False, random_state=None,\n",
       "    shrinking=True, tol=0.001, verbose=False)"
      ]
     },
     "execution_count": 48,
     "metadata": {},
     "output_type": "execute_result"
    }
   ],
   "source": [
    "# Train an SVM classifier\n",
    "clf = SVC(kernel='precomputed')\n",
    "clf.fit(K_train, Y_train) "
   ]
  },
  {
   "cell_type": "code",
   "execution_count": 49,
   "metadata": {},
   "outputs": [],
   "source": [
    "# Test classifier\n",
    "Y_pred = clf.predict(K_test)"
   ]
  },
  {
   "cell_type": "code",
   "execution_count": 50,
   "metadata": {},
   "outputs": [
    {
     "name": "stdout",
     "output_type": "stream",
     "text": [
      "[[107  28   4   3]\n",
      " [  4 119   9   2]\n",
      " [  5   5  99  11]\n",
      " [  1   2  17 118]]\n",
      "              precision    recall  f1-score   support\n",
      "\n",
      "           0       0.91      0.75      0.83       142\n",
      "           1       0.77      0.89      0.83       134\n",
      "           2       0.77      0.82      0.80       120\n",
      "           3       0.88      0.86      0.87       138\n",
      "\n",
      "    accuracy                           0.83       534\n",
      "   macro avg       0.83      0.83      0.83       534\n",
      "weighted avg       0.84      0.83      0.83       534\n",
      "\n"
     ]
    }
   ],
   "source": [
    "print(metrics.confusion_matrix(Y_test, Y_pred))\n",
    "\n",
    "# Print the precision and recall, among other metrics\n",
    "print(metrics.classification_report(Y_test, Y_pred, digits=2))"
   ]
  },
  {
   "cell_type": "markdown",
   "metadata": {},
   "source": [
    "## 6. SvmTheta Match"
   ]
  },
  {
   "cell_type": "code",
   "execution_count": 111,
   "metadata": {},
   "outputs": [],
   "source": [
    "gk = SvmTheta()"
   ]
  },
  {
   "cell_type": "code",
   "execution_count": null,
   "metadata": {},
   "outputs": [],
   "source": [
    "# Construct kernel matrices\n",
    "K_train = gk.fit_transform(G_train)\n",
    "K_test = gk.transform(G_test)"
   ]
  },
  {
   "cell_type": "code",
   "execution_count": null,
   "metadata": {},
   "outputs": [],
   "source": [
    "# Train an SVM classifier\n",
    "clf = SVC(kernel='precomputed')\n",
    "clf.fit(K_train, Y_train) "
   ]
  }
 ],
 "metadata": {
  "kernelspec": {
   "display_name": "Python 3",
   "language": "python",
   "name": "python3"
  },
  "language_info": {
   "codemirror_mode": {
    "name": "ipython",
    "version": 3
   },
   "file_extension": ".py",
   "mimetype": "text/x-python",
   "name": "python",
   "nbconvert_exporter": "python",
   "pygments_lexer": "ipython3",
   "version": "3.7.6"
  }
 },
 "nbformat": 4,
 "nbformat_minor": 4
}
